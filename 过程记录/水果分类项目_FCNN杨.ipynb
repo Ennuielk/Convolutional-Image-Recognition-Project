{
 "cells": [
  {
   "cell_type": "code",
   "execution_count": 1,
   "id": "fae5365b-728a-4094-99c6-2ef203721b08",
   "metadata": {},
   "outputs": [],
   "source": [
    "import tensorflow as tf\n",
    "from tensorflow.keras import layers, models, optimizers, callbacks\n",
    "from tensorflow.keras.preprocessing import image_dataset_from_directory\n",
    "from tensorflow.keras.applications import EfficientNetB0\n",
    "import matplotlib.pyplot as plt\n",
    "from sklearn.metrics import confusion_matrix\n",
    "import numpy as np"
   ]
  },
  {
   "cell_type": "code",
   "execution_count": 2,
   "id": "6e3607ff-9e32-4ffc-b127-847606f8a862",
   "metadata": {},
   "outputs": [
    {
     "name": "stdout",
     "output_type": "stream",
     "text": [
      "Found 40000 files belonging to 100 classes.\n",
      "Found 5000 files belonging to 100 classes.\n",
      "Class names: ['abiu', 'acai', 'acerola', 'ackee', 'ambarella', 'apple', 'apricot', 'avocado', 'banana', 'barbadine', 'barberry', 'betel_nut', 'bitter_gourd', 'black_berry', 'black_mullberry', 'brazil_nut', 'camu_camu', 'cashew', 'cempedak', 'chenet', 'cherimoya', 'chico', 'chokeberry', 'cluster_fig', 'coconut', 'corn_kernel', 'cranberry', 'cupuacu', 'custard_apple', 'damson', 'dewberry', 'dragonfruit', 'durian', 'eggplant', 'elderberry', 'emblic', 'feijoa', 'fig', 'finger_lime', 'gooseberry', 'goumi', 'grape', 'grapefruit', 'greengage', 'grenadilla', 'guava', 'hard_kiwi', 'hawthorn', 'hog_plum', 'horned_melon', 'indian_strawberry', 'jaboticaba', 'jackfruit', 'jalapeno', 'jamaica_cherry', 'jambul', 'jocote', 'jujube', 'kaffir_lime', 'kumquat', 'lablab', 'langsat', 'longan', 'mabolo', 'malay_apple', 'mandarine', 'mango', 'mangosteen', 'medlar', 'mock_strawberry', 'morinda', 'mountain_soursop', 'oil_palm', 'olive', 'otaheite_apple', 'papaya', 'passion_fruit', 'pawpaw', 'pea', 'pineapple', 'plumcot', 'pomegranate', 'prikly_pear', 'quince', 'rambutan', 'raspberry', 'redcurrant', 'rose_hip', 'rose_leaf_bramble', 'salak', 'santol', 'sapodilla', 'sea_buckthorn', 'strawberry_guava', 'sugar_apple', 'taxus_baccata', 'ugli_fruit', 'white_currant', 'yali_pear', 'yellow_plum']\n",
      "Number of classes: 100\n",
      "Training batches: 1250\n",
      "Validation batches: 157\n"
     ]
    }
   ],
   "source": [
    "#输入路径\n",
    "train_path = r\"C:\\Users\\yxh\\Desktop\\Fruit_dataset\\train1\"\n",
    "val_path = r\"C:\\Users\\yxh\\Desktop\\Fruit_dataset\\val1\"\n",
    "\n",
    "#创建训练集\n",
    "train_dataset = image_dataset_from_directory(train_path,shuffle=True,batch_size=32,image_size=(224,224),label_mode='categorical',seed=42)\n",
    "\n",
    "#创建验证集\n",
    "val_dataset = image_dataset_from_directory(val_path,shuffle=False,batch_size=32,image_size=(224,224),label_mode='categorical',seed=42)\n",
    "\n",
    "class_names = train_dataset.class_names\n",
    "\n",
    "#打印类名\n",
    "print(f\"Class names: {class_names}\")\n",
    "\n",
    "AUTOTUNE = tf.data.AUTOTUNE\n",
    "train_dataset = train_dataset.prefetch(buffer_size=AUTOTUNE)\n",
    "val_dataset = val_dataset.prefetch(buffer_size=AUTOTUNE)\n",
    "\n",
    "#打印相关信息\n",
    "print(f\"Number of classes: {len(class_names)}\")\n",
    "print(f\"Training batches: {tf.data.experimental.cardinality(train_dataset)}\")\n",
    "print(f\"Validation batches: {tf.data.experimental.cardinality(val_dataset)}\")"
   ]
  },
  {
   "cell_type": "code",
   "execution_count": null,
   "id": "eb9c9689-9bae-4f86-81b8-884a3ed553de",
   "metadata": {},
   "outputs": [
    {
     "name": "stdout",
     "output_type": "stream",
     "text": [
      "Epoch 1/2\n",
      "\u001b[1m 180/1250\u001b[0m \u001b[32m━━\u001b[0m\u001b[37m━━━━━━━━━━━━━━━━━━\u001b[0m \u001b[1m3:40\u001b[0m 206ms/step - accuracy: 0.0064 - loss: 6.2725"
     ]
    }
   ],
   "source": [
    "#将数据输入\n",
    "inputs = layers.Input(shape=(224,224,3))\n",
    "\n",
    "#归一化\n",
    "x = layers.Rescaling(1./255)(inputs)\n",
    "\n",
    "#全连接神经网络的构建\n",
    "x = layers.Flatten()(x)\n",
    "x = layers.Dense(512, activation='relu')(x)\n",
    "x = layers.Dropout(0.5)(x)\n",
    "x = layers.Dense(256, activation='relu')(x)\n",
    "x = layers.Dropout(0.3)(x)\n",
    "outputs = layers.Dense(100, activation='softmax')(x)\n",
    "\n",
    "model = models.Model(inputs=inputs, outputs=outputs)\n",
    "\n",
    "#设定模型\n",
    "model.compile(\n",
    "    optimizer=optimizers.Adam(learning_rate=0.0001),\n",
    "    loss='categorical_crossentropy',\n",
    "    metrics=['accuracy']\n",
    ")\n",
    "\n",
    "#开始训练模型\n",
    "history = model.fit(\n",
    "    train_dataset,\n",
    "    epochs=2,\n",
    "    validation_data=val_dataset\n",
    ")"
   ]
  },
  {
   "cell_type": "code",
   "execution_count": null,
   "id": "620e4285-7c12-4a95-b71e-cf14d1a2a5ed",
   "metadata": {},
   "outputs": [],
   "source": []
  }
 ],
 "metadata": {
  "kernelspec": {
   "display_name": "Python 3 (ipykernel)",
   "language": "python",
   "name": "python3"
  },
  "language_info": {
   "codemirror_mode": {
    "name": "ipython",
    "version": 3
   },
   "file_extension": ".py",
   "mimetype": "text/x-python",
   "name": "python",
   "nbconvert_exporter": "python",
   "pygments_lexer": "ipython3",
   "version": "3.9.23"
  }
 },
 "nbformat": 4,
 "nbformat_minor": 5
}
