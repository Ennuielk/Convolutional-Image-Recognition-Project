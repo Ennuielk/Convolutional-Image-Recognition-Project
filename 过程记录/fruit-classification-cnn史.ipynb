{
 "cells": [
  {
   "cell_type": "code",
   "execution_count": 3,
   "metadata": {
    "execution": {
     "iopub.execute_input": "2025-07-17T06:30:22.834205Z",
     "iopub.status.busy": "2025-07-17T06:30:22.834007Z",
     "iopub.status.idle": "2025-07-17T06:30:36.146433Z",
     "shell.execute_reply": "2025-07-17T06:30:36.145824Z",
     "shell.execute_reply.started": "2025-07-17T06:30:22.834189Z"
    },
    "executionInfo": {
     "elapsed": 214,
     "status": "ok",
     "timestamp": 1751412241990,
     "user": {
      "displayName": "Jesus Deleon",
      "userId": "05916505576821218581"
     },
     "user_tz": 420
    },
    "id": "qAvE1cRM7uGQ",
    "trusted": true
   },
   "outputs": [],
   "source": [
    "import os\n",
    "import random\n",
    "import matplotlib.pyplot as plt\n",
    "from sklearn.metrics import confusion_matrix\n",
    "import numpy as np\n",
    "from matplotlib.ticker import MaxNLocator\n",
    "from matplotlib.image import imread\n",
    "import tensorflow as tf\n",
    "from tensorflow.keras import layers, models, optimizers, callbacks\n",
    "from tensorflow.keras.preprocessing import image_dataset_from_directory\n",
    "from tensorflow.keras.applications import EfficientNetB0"
   ]
  },
  {
   "cell_type": "code",
   "execution_count": 4,
   "metadata": {
    "execution": {
     "iopub.execute_input": "2025-07-17T06:31:11.834818Z",
     "iopub.status.busy": "2025-07-17T06:31:11.834550Z",
     "iopub.status.idle": "2025-07-17T06:31:52.542728Z",
     "shell.execute_reply": "2025-07-17T06:31:52.541925Z",
     "shell.execute_reply.started": "2025-07-17T06:31:11.834799Z"
    },
    "executionInfo": {
     "elapsed": 6415,
     "status": "ok",
     "timestamp": 1751399741721,
     "user": {
      "displayName": "Jesus Deleon",
      "userId": "05916505576821218581"
     },
     "user_tz": 420
    },
    "id": "okooR4MzB9dK",
    "outputId": "5cf646b9-b98c-4601-a46f-ce52877ae0c9",
    "trusted": true
   },
   "outputs": [
    {
     "name": "stdout",
     "output_type": "stream",
     "text": [
      "Found 40000 files belonging to 100 classes.\n",
      "Found 5000 files belonging to 100 classes.\n",
      "Number of classes: 100\n",
      "Class names: ['abiu', 'acai', 'acerola', 'ackee', 'ambarella', 'apple', 'apricot', 'avocado', 'banana', 'barbadine', 'barberry', 'betel_nut', 'bitter_gourd', 'black_berry', 'black_mullberry', 'brazil_nut', 'camu_camu', 'cashew', 'cempedak', 'chenet', 'cherimoya', 'chico', 'chokeberry', 'cluster_fig', 'coconut', 'corn_kernel', 'cranberry', 'cupuacu', 'custard_apple', 'damson', 'dewberry', 'dragonfruit', 'durian', 'eggplant', 'elderberry', 'emblic', 'feijoa', 'fig', 'finger_lime', 'gooseberry', 'goumi', 'grape', 'grapefruit', 'greengage', 'grenadilla', 'guava', 'hard_kiwi', 'hawthorn', 'hog_plum', 'horned_melon', 'indian_strawberry', 'jaboticaba', 'jackfruit', 'jalapeno', 'jamaica_cherry', 'jambul', 'jocote', 'jujube', 'kaffir_lime', 'kumquat', 'lablab', 'langsat', 'longan', 'mabolo', 'malay_apple', 'mandarine', 'mango', 'mangosteen', 'medlar', 'mock_strawberry', 'morinda', 'mountain_soursop', 'oil_palm', 'olive', 'otaheite_apple', 'papaya', 'passion_fruit', 'pawpaw', 'pea', 'pineapple', 'plumcot', 'pomegranate', 'prikly_pear', 'quince', 'rambutan', 'raspberry', 'redcurrant', 'rose_hip', 'rose_leaf_bramble', 'salak', 'santol', 'sapodilla', 'sea_buckthorn', 'strawberry_guava', 'sugar_apple', 'taxus_baccata', 'ugli_fruit', 'white_currant', 'yali_pear', 'yellow_plum']\n",
      "Training batches: 1250\n",
      "Validation batches: 157\n"
     ]
    }
   ],
   "source": [
    "train_path = r\"C:\\Users\\Ennuielk\\Documents\\archive\\Fruit_dataset\\train1\"\n",
    "val_path = r\"C:\\Users\\Ennuielk\\Documents\\archive\\Fruit_dataset\\val1\"\n",
    "\n",
    "BATCH_SIZE = 32\n",
    "IMG_SIZE = (224, 224)\n",
    "\n",
    "#创建训练集\n",
    "train_dataset = image_dataset_from_directory(\n",
    "    train_path,\n",
    "    shuffle=True,\n",
    "    batch_size=BATCH_SIZE,\n",
    "    image_size=IMG_SIZE,\n",
    "    label_mode='categorical',\n",
    "    seed=42\n",
    ")\n",
    "\n",
    "#创建验证集\n",
    "val_dataset = image_dataset_from_directory(\n",
    "    val_path,\n",
    "    shuffle=False,\n",
    "    batch_size=BATCH_SIZE,\n",
    "    image_size=IMG_SIZE,\n",
    "    label_mode='categorical',\n",
    "    seed=42\n",
    ")\n",
    "\n",
    "class_names = train_dataset.class_names\n",
    "\n",
    "AUTOTUNE = tf.data.AUTOTUNE\n",
    "train_dataset = train_dataset.prefetch(buffer_size=AUTOTUNE)\n",
    "val_dataset = val_dataset.prefetch(buffer_size=AUTOTUNE)\n",
    "\n",
    "\n",
    "#数据信息\n",
    "print(f\"Number of classes: {len(class_names)}\")\n",
    "print(f\"Class names: {class_names}\")\n",
    "print(f\"Training batches: {tf.data.experimental.cardinality(train_dataset)}\")\n",
    "print(f\"Validation batches: {tf.data.experimental.cardinality(val_dataset)}\")"
   ]
  },
  {
   "cell_type": "code",
   "execution_count": 5,
   "metadata": {
    "execution": {
     "iopub.execute_input": "2025-07-17T06:34:08.407961Z",
     "iopub.status.busy": "2025-07-17T06:34:08.407674Z",
     "iopub.status.idle": "2025-07-17T06:34:08.499164Z",
     "shell.execute_reply": "2025-07-17T06:34:08.498666Z",
     "shell.execute_reply.started": "2025-07-17T06:34:08.407930Z"
    },
    "executionInfo": {
     "elapsed": 776,
     "status": "ok",
     "timestamp": 1751399756510,
     "user": {
      "displayName": "Jesus Deleon",
      "userId": "05916505576821218581"
     },
     "user_tz": 420
    },
    "id": "-aSxbHDhILtW",
    "trusted": true
   },
   "outputs": [],
   "source": [
    "inputs = layers.Input(shape=(224,224,3))\n",
    "\n",
    "#归一化\n",
    "x = layers.Rescaling(1./255)(inputs)\n",
    "\n",
    "#卷积基\n",
    "x = layers.Conv2D(32, (3, 3), activation='relu', padding='same')(x)\n",
    "x = layers.BatchNormalization()(x)\n",
    "x = layers.MaxPooling2D((2, 2))(x)\n",
    "\n",
    "x = layers.Conv2D(64, (3, 3), activation='relu', padding='same')(x)\n",
    "x = layers.BatchNormalization()(x)\n",
    "x = layers.MaxPooling2D((2, 2))(x)\n",
    "\n",
    "x = layers.Conv2D(128, (3, 3), activation='relu', padding='same')(x)\n",
    "x = layers.BatchNormalization()(x)\n",
    "x = layers.MaxPooling2D((2, 2))(x)\n",
    "\n",
    "\n",
    "#分类头\n",
    "x = layers.Flatten()(x)\n",
    "x = layers.Dense(512, activation='relu')(x)\n",
    "x = layers.Dropout(0.5)(x)\n",
    "x = layers.Dense(256, activation='relu')(x)\n",
    "x = layers.Dropout(0.3)(x)\n",
    "outputs = layers.Dense(100, activation='softmax')(x)\n",
    "\n",
    "model_1 = models.Model(inputs=inputs, outputs=outputs)"
   ]
  },
  {
   "cell_type": "code",
   "execution_count": 7,
   "metadata": {},
   "outputs": [
    {
     "name": "stdout",
     "output_type": "stream",
     "text": [
      "Epoch 1/2\n",
      "1250/1250 [==============================] - 119s 94ms/step - loss: 4.6980 - accuracy: 0.0095 - val_loss: 4.6052 - val_accuracy: 0.0100\n",
      "Epoch 2/2\n",
      "1250/1250 [==============================] - 117s 94ms/step - loss: 4.6339 - accuracy: 0.0086 - val_loss: 4.6052 - val_accuracy: 0.0100\n"
     ]
    }
   ],
   "source": [
    "model_1.compile(\n",
    "    optimizer = \"rmsprop\",\n",
    "    loss = 'categorical_crossentropy',\n",
    "    metrics = ['accuracy']\n",
    ")\n",
    "\n",
    "history = model_1.fit(\n",
    "    train_dataset,\n",
    "    epochs = 2,\n",
    "    validation_data = val_dataset\n",
    ")"
   ]
  }
 ],
 "metadata": {
  "accelerator": "GPU",
  "colab": {
   "authorship_tag": "ABX9TyNiWBTQZahjo0uL8SA9XTH5",
   "gpuType": "A100",
   "machine_shape": "hm",
   "provenance": []
  },
  "kaggle": {
   "accelerator": "gpu",
   "dataSources": [
    {
     "datasetId": 7522143,
     "sourceId": 11962603,
     "sourceType": "datasetVersion"
    }
   ],
   "dockerImageVersionId": 31041,
   "isGpuEnabled": true,
   "isInternetEnabled": true,
   "language": "python",
   "sourceType": "notebook"
  },
  "kernelspec": {
   "display_name": "tf3",
   "language": "python",
   "name": "python3"
  },
  "language_info": {
   "codemirror_mode": {
    "name": "ipython",
    "version": 3
   },
   "file_extension": ".py",
   "mimetype": "text/x-python",
   "name": "python",
   "nbconvert_exporter": "python",
   "pygments_lexer": "ipython3",
   "version": "3.10.18"
  }
 },
 "nbformat": 4,
 "nbformat_minor": 4
}
